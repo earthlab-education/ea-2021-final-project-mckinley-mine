{
 "cells": [
  {
   "cell_type": "markdown",
   "id": "blessed-diving",
   "metadata": {
    "slideshow": {
     "slide_type": "slide"
    }
   },
   "source": [
    "## Vegetation monitoring at the McKinley Mine restoration site, New Mexico\n",
    "Christian Haselwimmer"
   ]
  },
  {
   "cell_type": "markdown",
   "id": "comparative-broadway",
   "metadata": {
    "slideshow": {
     "slide_type": "subslide"
    }
   },
   "source": [
    "## Background\n",
    "- Item one\n",
    "- Item two"
   ]
  }
 ],
 "metadata": {
  "celltoolbar": "Slideshow",
  "kernelspec": {
   "display_name": "Python 3",
   "language": "python",
   "name": "python3"
  },
  "language_info": {
   "codemirror_mode": {
    "name": "ipython",
    "version": 3
   },
   "file_extension": ".py",
   "mimetype": "text/x-python",
   "name": "python",
   "nbconvert_exporter": "python",
   "pygments_lexer": "ipython3",
   "version": "3.7.6"
  }
 },
 "nbformat": 4,
 "nbformat_minor": 5
}
