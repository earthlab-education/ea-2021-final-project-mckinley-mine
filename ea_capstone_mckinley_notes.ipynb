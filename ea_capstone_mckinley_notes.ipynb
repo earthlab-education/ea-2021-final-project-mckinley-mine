{
 "cells": [
  {
   "cell_type": "markdown",
   "id": "treated-retail",
   "metadata": {},
   "source": [
    "### aWhere\n",
    "https://awherepy.readthedocs.io/en/latest/index.html"
   ]
  },
  {
   "cell_type": "markdown",
   "id": "imperial-exclusive",
   "metadata": {},
   "source": [
    "### References\n",
    "https://www.nature.com/articles/s41598-019-43544-5"
   ]
  }
 ],
 "metadata": {
  "kernelspec": {
   "display_name": "Python 3",
   "language": "python",
   "name": "python3"
  },
  "language_info": {
   "codemirror_mode": {
    "name": "ipython",
    "version": 3
   },
   "file_extension": ".py",
   "mimetype": "text/x-python",
   "name": "python",
   "nbconvert_exporter": "python",
   "pygments_lexer": "ipython3",
   "version": "3.7.6"
  }
 },
 "nbformat": 4,
 "nbformat_minor": 5
}
